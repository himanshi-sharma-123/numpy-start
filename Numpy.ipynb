{
 "cells": [
  {
   "cell_type": "markdown",
   "id": "9265621a-08bb-423d-8ab6-1e8a88cdd47e",
   "metadata": {},
   "source": [
    "# WELCOME TO NUMPY"
   ]
  },
  {
   "cell_type": "code",
   "execution_count": 1,
   "id": "22953394-b854-48aa-9297-c8b462b092d3",
   "metadata": {},
   "outputs": [],
   "source": [
    "import numpy as np"
   ]
  },
  {
   "cell_type": "code",
   "execution_count": 2,
   "id": "c369bc40-3c15-457f-822b-36b1dbbd8283",
   "metadata": {},
   "outputs": [],
   "source": [
    "myarr = np.array([[3,6,37777,7]],np.int32)"
   ]
  },
  {
   "cell_type": "code",
   "execution_count": 3,
   "id": "41bd4361-6f79-48d1-a56d-2192b9c20009",
   "metadata": {},
   "outputs": [
    {
     "data": {
      "text/plain": [
       "array([[    3,     6, 37777,     7]])"
      ]
     },
     "execution_count": 3,
     "metadata": {},
     "output_type": "execute_result"
    }
   ],
   "source": [
    "myarr"
   ]
  },
  {
   "cell_type": "code",
   "execution_count": 4,
   "id": "ec4b58af-5060-4908-8e9b-fe8b964325c3",
   "metadata": {},
   "outputs": [
    {
     "data": {
      "text/plain": [
       "6"
      ]
     },
     "execution_count": 4,
     "metadata": {},
     "output_type": "execute_result"
    }
   ],
   "source": [
    "myarr[0,1]"
   ]
  },
  {
   "cell_type": "code",
   "execution_count": 5,
   "id": "63920cd6-998a-42b3-b3e8-ada42b780307",
   "metadata": {},
   "outputs": [
    {
     "data": {
      "text/plain": [
       "(1, 4)"
      ]
     },
     "execution_count": 5,
     "metadata": {},
     "output_type": "execute_result"
    }
   ],
   "source": [
    "myarr.shape"
   ]
  },
  {
   "cell_type": "code",
   "execution_count": 6,
   "id": "4ba18197-bce4-41f3-84cf-a91429ea6031",
   "metadata": {},
   "outputs": [
    {
     "data": {
      "text/plain": [
       "dtype('int32')"
      ]
     },
     "execution_count": 6,
     "metadata": {},
     "output_type": "execute_result"
    }
   ],
   "source": [
    "myarr.dtype"
   ]
  },
  {
   "cell_type": "code",
   "execution_count": 7,
   "id": "657e76fc-8b15-4968-a496-43e1cc85f826",
   "metadata": {},
   "outputs": [],
   "source": [
    "myarr[0,1] = 45"
   ]
  },
  {
   "cell_type": "code",
   "execution_count": 8,
   "id": "e9853f20-65a8-43dc-a770-637bcb19fb06",
   "metadata": {},
   "outputs": [
    {
     "data": {
      "text/plain": [
       "array([[    3,    45, 37777,     7]])"
      ]
     },
     "execution_count": 8,
     "metadata": {},
     "output_type": "execute_result"
    }
   ],
   "source": [
    "myarr"
   ]
  },
  {
   "cell_type": "markdown",
   "id": "22233c65-3852-482c-afb2-a78b3190edd0",
   "metadata": {},
   "source": [
    "\n",
    "# Array Creation: Conversion from other Python structures"
   ]
  },
  {
   "cell_type": "code",
   "execution_count": 9,
   "id": "2d5f338e-5ad4-4431-b562-936499db904a",
   "metadata": {},
   "outputs": [],
   "source": [
    "listarray = np.array([[1,2,3],[5,8,5],[0,3,1]])"
   ]
  },
  {
   "cell_type": "code",
   "execution_count": 10,
   "id": "c27fae07-7232-4e24-baeb-60a1cfbb2c7c",
   "metadata": {},
   "outputs": [
    {
     "data": {
      "text/plain": [
       "array([[1, 2, 3],\n",
       "       [5, 8, 5],\n",
       "       [0, 3, 1]])"
      ]
     },
     "execution_count": 10,
     "metadata": {},
     "output_type": "execute_result"
    }
   ],
   "source": [
    "listarray\n"
   ]
  },
  {
   "cell_type": "code",
   "execution_count": 11,
   "id": "18e9829b-d221-44f4-9a36-669f8adfde7b",
   "metadata": {},
   "outputs": [
    {
     "data": {
      "text/plain": [
       "dtype('int32')"
      ]
     },
     "execution_count": 11,
     "metadata": {},
     "output_type": "execute_result"
    }
   ],
   "source": [
    "listarray.dtype"
   ]
  },
  {
   "cell_type": "code",
   "execution_count": 12,
   "id": "d2032d92-bf58-4b8d-98b5-7376572a28f8",
   "metadata": {},
   "outputs": [
    {
     "data": {
      "text/plain": [
       "(3, 3)"
      ]
     },
     "execution_count": 12,
     "metadata": {},
     "output_type": "execute_result"
    }
   ],
   "source": [
    "listarray.shape"
   ]
  },
  {
   "cell_type": "code",
   "execution_count": 13,
   "id": "b99d19ff-945e-46bb-bf5a-42e1fe600d4e",
   "metadata": {},
   "outputs": [
    {
     "data": {
      "text/plain": [
       "9"
      ]
     },
     "execution_count": 13,
     "metadata": {},
     "output_type": "execute_result"
    }
   ],
   "source": [
    "listarray.size"
   ]
  },
  {
   "cell_type": "code",
   "execution_count": 14,
   "id": "ed4ef9d5-bceb-433e-bf75-50957f803f82",
   "metadata": {},
   "outputs": [
    {
     "data": {
      "text/plain": [
       "array({32, 33, 34}, dtype=object)"
      ]
     },
     "execution_count": 14,
     "metadata": {},
     "output_type": "execute_result"
    }
   ],
   "source": [
    "np.array({32,33,34})"
   ]
  },
  {
   "cell_type": "markdown",
   "id": "f8afdebd-27c9-4c47-aa3a-612c29b54c40",
   "metadata": {},
   "source": [
    "# Intrinsic numpy array creation objects"
   ]
  },
  {
   "cell_type": "code",
   "execution_count": 15,
   "id": "1a138766-822a-465f-ad34-301ddd4978e3",
   "metadata": {},
   "outputs": [],
   "source": [
    "zeros = np.zeros((2,5))"
   ]
  },
  {
   "cell_type": "code",
   "execution_count": 16,
   "id": "82809788-2df8-4631-bd1c-7b8248a728aa",
   "metadata": {},
   "outputs": [
    {
     "data": {
      "text/plain": [
       "array([[0., 0., 0., 0., 0.],\n",
       "       [0., 0., 0., 0., 0.]])"
      ]
     },
     "execution_count": 16,
     "metadata": {},
     "output_type": "execute_result"
    }
   ],
   "source": [
    "zeros"
   ]
  },
  {
   "cell_type": "code",
   "execution_count": 17,
   "id": "5010636c-220a-4696-931d-7df87802a702",
   "metadata": {},
   "outputs": [
    {
     "data": {
      "text/plain": [
       "dtype('float64')"
      ]
     },
     "execution_count": 17,
     "metadata": {},
     "output_type": "execute_result"
    }
   ],
   "source": [
    "zeros.dtype"
   ]
  },
  {
   "cell_type": "code",
   "execution_count": 18,
   "id": "9bbfeb30-9738-402d-8059-7cbd6f0c0263",
   "metadata": {},
   "outputs": [
    {
     "data": {
      "text/plain": [
       "(2, 5)"
      ]
     },
     "execution_count": 18,
     "metadata": {},
     "output_type": "execute_result"
    }
   ],
   "source": [
    "zeros.shape"
   ]
  },
  {
   "cell_type": "code",
   "execution_count": 19,
   "id": "cfd3eca3-8070-4a6d-8a2c-c2f53fab6272",
   "metadata": {},
   "outputs": [
    {
     "data": {
      "text/plain": [
       "array([[0., 0., 0., 0., 0.],\n",
       "       [0., 0., 0., 0., 0.]])"
      ]
     },
     "execution_count": 19,
     "metadata": {},
     "output_type": "execute_result"
    }
   ],
   "source": [
    "zeros"
   ]
  },
  {
   "cell_type": "code",
   "execution_count": 20,
   "id": "4f03d6fd-c87a-41b4-949e-76127ea9a566",
   "metadata": {},
   "outputs": [],
   "source": [
    "rng = np.arange(15)"
   ]
  },
  {
   "cell_type": "code",
   "execution_count": 21,
   "id": "ef32a8fa-c442-48bf-a965-fe5ed661ff02",
   "metadata": {},
   "outputs": [
    {
     "data": {
      "text/plain": [
       "array([ 0,  1,  2,  3,  4,  5,  6,  7,  8,  9, 10, 11, 12, 13, 14])"
      ]
     },
     "execution_count": 21,
     "metadata": {},
     "output_type": "execute_result"
    }
   ],
   "source": [
    "rng"
   ]
  },
  {
   "cell_type": "code",
   "execution_count": 22,
   "id": "3aca4fa8-8cb2-4fa0-af08-22ad1aadfdc4",
   "metadata": {},
   "outputs": [],
   "source": [
    "lspace = np.linspace(1,5,12)"
   ]
  },
  {
   "cell_type": "code",
   "execution_count": 23,
   "id": "f9884650-685a-4879-9f2b-bda61b2033cd",
   "metadata": {},
   "outputs": [
    {
     "data": {
      "text/plain": [
       "array([1.        , 1.36363636, 1.72727273, 2.09090909, 2.45454545,\n",
       "       2.81818182, 3.18181818, 3.54545455, 3.90909091, 4.27272727,\n",
       "       4.63636364, 5.        ])"
      ]
     },
     "execution_count": 23,
     "metadata": {},
     "output_type": "execute_result"
    }
   ],
   "source": [
    "lspace"
   ]
  },
  {
   "cell_type": "code",
   "execution_count": 24,
   "id": "3bb2dba1-96f0-4baf-a9ce-178116a6b8ea",
   "metadata": {},
   "outputs": [],
   "source": [
    "lspace = np.linspace(1,4,4)"
   ]
  },
  {
   "cell_type": "code",
   "execution_count": 25,
   "id": "3121b5d4-a32b-481f-af75-cc41f046970c",
   "metadata": {},
   "outputs": [
    {
     "data": {
      "text/plain": [
       "array([1., 2., 3., 4.])"
      ]
     },
     "execution_count": 25,
     "metadata": {},
     "output_type": "execute_result"
    }
   ],
   "source": [
    "lspace"
   ]
  },
  {
   "cell_type": "code",
   "execution_count": 26,
   "id": "0ae911c5-b85b-4ef6-9cf8-a2336b00ed21",
   "metadata": {},
   "outputs": [],
   "source": [
    "emp =np.empty((4,6))"
   ]
  },
  {
   "cell_type": "code",
   "execution_count": 27,
   "id": "735cffd6-1bec-48e7-b651-4432c4e31068",
   "metadata": {},
   "outputs": [
    {
     "data": {
      "text/plain": [
       "array([[6.23042070e-307, 4.67296746e-307, 1.69121096e-306,\n",
       "        3.11522054e-307, 1.42413555e-306, 1.78019082e-306],\n",
       "       [1.37959740e-306, 6.23057349e-307, 1.02360935e-306,\n",
       "        1.69120416e-306, 1.78022342e-306, 6.23058028e-307],\n",
       "       [1.06811422e-306, 9.45699680e-308, 1.11258854e-306,\n",
       "        1.11261502e-306, 1.42410839e-306, 7.56597770e-307],\n",
       "       [6.23059726e-307, 1.42419530e-306, 7.56602523e-307,\n",
       "        1.29061821e-306, 7.23168527e-308, 2.56765117e-312]])"
      ]
     },
     "execution_count": 27,
     "metadata": {},
     "output_type": "execute_result"
    }
   ],
   "source": [
    "emp"
   ]
  },
  {
   "cell_type": "code",
   "execution_count": 28,
   "id": "583b478d-776c-40cc-ba57-979ef931ef98",
   "metadata": {},
   "outputs": [],
   "source": [
    "emp_like = np.empty_like(lspace)"
   ]
  },
  {
   "cell_type": "code",
   "execution_count": 29,
   "id": "31189e75-184b-493b-8286-9ec6956e744d",
   "metadata": {},
   "outputs": [
    {
     "data": {
      "text/plain": [
       "array([1., 2., 3., 4.])"
      ]
     },
     "execution_count": 29,
     "metadata": {},
     "output_type": "execute_result"
    }
   ],
   "source": [
    "emp_like"
   ]
  },
  {
   "cell_type": "code",
   "execution_count": 30,
   "id": "b0341b80-956b-473b-924c-4a86a21465ce",
   "metadata": {},
   "outputs": [],
   "source": [
    "ide = np.identity(45)"
   ]
  },
  {
   "cell_type": "code",
   "execution_count": 31,
   "id": "8767c225-3c18-49c0-b5ef-8dad76ba5aef",
   "metadata": {},
   "outputs": [
    {
     "data": {
      "text/plain": [
       "array([[1., 0., 0., ..., 0., 0., 0.],\n",
       "       [0., 1., 0., ..., 0., 0., 0.],\n",
       "       [0., 0., 1., ..., 0., 0., 0.],\n",
       "       ...,\n",
       "       [0., 0., 0., ..., 1., 0., 0.],\n",
       "       [0., 0., 0., ..., 0., 1., 0.],\n",
       "       [0., 0., 0., ..., 0., 0., 1.]])"
      ]
     },
     "execution_count": 31,
     "metadata": {},
     "output_type": "execute_result"
    }
   ],
   "source": [
    "ide"
   ]
  },
  {
   "cell_type": "code",
   "execution_count": 32,
   "id": "9618f032-9bce-4bea-a24d-ec45e6b35a1d",
   "metadata": {},
   "outputs": [
    {
     "data": {
      "text/plain": [
       "(45, 45)"
      ]
     },
     "execution_count": 32,
     "metadata": {},
     "output_type": "execute_result"
    }
   ],
   "source": [
    "ide.shape"
   ]
  },
  {
   "cell_type": "code",
   "execution_count": 33,
   "id": "0c94b817-ac4e-418e-ae50-ea8d39e14710",
   "metadata": {},
   "outputs": [],
   "source": [
    "arr = np.arange(99)"
   ]
  },
  {
   "cell_type": "code",
   "execution_count": 34,
   "id": "befd5e85-5ef5-45ec-b026-df12d1bd8d89",
   "metadata": {},
   "outputs": [
    {
     "data": {
      "text/plain": [
       "array([ 0,  1,  2,  3,  4,  5,  6,  7,  8,  9, 10, 11, 12, 13, 14, 15, 16,\n",
       "       17, 18, 19, 20, 21, 22, 23, 24, 25, 26, 27, 28, 29, 30, 31, 32, 33,\n",
       "       34, 35, 36, 37, 38, 39, 40, 41, 42, 43, 44, 45, 46, 47, 48, 49, 50,\n",
       "       51, 52, 53, 54, 55, 56, 57, 58, 59, 60, 61, 62, 63, 64, 65, 66, 67,\n",
       "       68, 69, 70, 71, 72, 73, 74, 75, 76, 77, 78, 79, 80, 81, 82, 83, 84,\n",
       "       85, 86, 87, 88, 89, 90, 91, 92, 93, 94, 95, 96, 97, 98])"
      ]
     },
     "execution_count": 34,
     "metadata": {},
     "output_type": "execute_result"
    }
   ],
   "source": [
    "arr\n"
   ]
  },
  {
   "cell_type": "code",
   "execution_count": 35,
   "id": "a1fd383c-5a4a-4603-8712-3300099f56c3",
   "metadata": {},
   "outputs": [
    {
     "data": {
      "text/plain": [
       "array([[ 0,  1,  2,  3,  4,  5,  6,  7,  8,  9, 10, 11, 12, 13, 14, 15,\n",
       "        16, 17, 18, 19, 20, 21, 22, 23, 24, 25, 26, 27, 28, 29, 30, 31,\n",
       "        32],\n",
       "       [33, 34, 35, 36, 37, 38, 39, 40, 41, 42, 43, 44, 45, 46, 47, 48,\n",
       "        49, 50, 51, 52, 53, 54, 55, 56, 57, 58, 59, 60, 61, 62, 63, 64,\n",
       "        65],\n",
       "       [66, 67, 68, 69, 70, 71, 72, 73, 74, 75, 76, 77, 78, 79, 80, 81,\n",
       "        82, 83, 84, 85, 86, 87, 88, 89, 90, 91, 92, 93, 94, 95, 96, 97,\n",
       "        98]])"
      ]
     },
     "execution_count": 35,
     "metadata": {},
     "output_type": "execute_result"
    }
   ],
   "source": [
    "arr.reshape(3,33)"
   ]
  },
  {
   "cell_type": "code",
   "execution_count": 36,
   "id": "f35a1919-df9a-4215-8b08-41c04e7c3321",
   "metadata": {},
   "outputs": [
    {
     "data": {
      "text/plain": [
       "array([ 0,  1,  2,  3,  4,  5,  6,  7,  8,  9, 10, 11, 12, 13, 14, 15, 16,\n",
       "       17, 18, 19, 20, 21, 22, 23, 24, 25, 26, 27, 28, 29, 30, 31, 32, 33,\n",
       "       34, 35, 36, 37, 38, 39, 40, 41, 42, 43, 44, 45, 46, 47, 48, 49, 50,\n",
       "       51, 52, 53, 54, 55, 56, 57, 58, 59, 60, 61, 62, 63, 64, 65, 66, 67,\n",
       "       68, 69, 70, 71, 72, 73, 74, 75, 76, 77, 78, 79, 80, 81, 82, 83, 84,\n",
       "       85, 86, 87, 88, 89, 90, 91, 92, 93, 94, 95, 96, 97, 98])"
      ]
     },
     "execution_count": 36,
     "metadata": {},
     "output_type": "execute_result"
    }
   ],
   "source": [
    "arr"
   ]
  },
  {
   "cell_type": "code",
   "execution_count": 37,
   "id": "b976158a-54d7-4bf7-abd0-0fe827735f30",
   "metadata": {},
   "outputs": [],
   "source": [
    "arr = arr.reshape(3,33)"
   ]
  },
  {
   "cell_type": "code",
   "execution_count": 38,
   "id": "6fa421fe-6b37-4532-b9ea-d16280516ab1",
   "metadata": {},
   "outputs": [
    {
     "data": {
      "text/plain": [
       "array([[ 0,  1,  2,  3,  4,  5,  6,  7,  8,  9, 10, 11, 12, 13, 14, 15,\n",
       "        16, 17, 18, 19, 20, 21, 22, 23, 24, 25, 26, 27, 28, 29, 30, 31,\n",
       "        32],\n",
       "       [33, 34, 35, 36, 37, 38, 39, 40, 41, 42, 43, 44, 45, 46, 47, 48,\n",
       "        49, 50, 51, 52, 53, 54, 55, 56, 57, 58, 59, 60, 61, 62, 63, 64,\n",
       "        65],\n",
       "       [66, 67, 68, 69, 70, 71, 72, 73, 74, 75, 76, 77, 78, 79, 80, 81,\n",
       "        82, 83, 84, 85, 86, 87, 88, 89, 90, 91, 92, 93, 94, 95, 96, 97,\n",
       "        98]])"
      ]
     },
     "execution_count": 38,
     "metadata": {},
     "output_type": "execute_result"
    }
   ],
   "source": [
    "arr"
   ]
  },
  {
   "cell_type": "code",
   "execution_count": 41,
   "id": "2a7c6417-e566-44ac-b086-1ca58ffda1c8",
   "metadata": {},
   "outputs": [],
   "source": [
    "arr = arr.ravel()"
   ]
  },
  {
   "cell_type": "code",
   "execution_count": 42,
   "id": "6480b805-48f4-43c0-89f7-6b3ad816ad16",
   "metadata": {},
   "outputs": [
    {
     "data": {
      "text/plain": [
       "(99,)"
      ]
     },
     "execution_count": 42,
     "metadata": {},
     "output_type": "execute_result"
    }
   ],
   "source": [
    "arr.shape"
   ]
  },
  {
   "cell_type": "markdown",
   "id": "86e24b45-b8de-40f4-9f05-bf8bf1ccf6db",
   "metadata": {},
   "source": [
    "# Axis"
   ]
  },
  {
   "cell_type": "code",
   "execution_count": 43,
   "id": "8ec5a7f1-0ee3-4389-ab4a-7dc87c55fbd2",
   "metadata": {},
   "outputs": [],
   "source": [
    "x = [[1,2,3],[4,5,6],[7,1,0]]"
   ]
  },
  {
   "cell_type": "code",
   "execution_count": 44,
   "id": "ed690473-5314-4282-a40f-baf40fd1d7d5",
   "metadata": {},
   "outputs": [],
   "source": [
    "arr = np.array(x)"
   ]
  },
  {
   "cell_type": "code",
   "execution_count": 45,
   "id": "7c11417f-e546-4d8f-8846-2b126791a8a7",
   "metadata": {},
   "outputs": [
    {
     "data": {
      "text/plain": [
       "array([[1, 2, 3],\n",
       "       [4, 5, 6],\n",
       "       [7, 1, 0]])"
      ]
     },
     "execution_count": 45,
     "metadata": {},
     "output_type": "execute_result"
    }
   ],
   "source": [
    "arr"
   ]
  },
  {
   "cell_type": "code",
   "execution_count": 46,
   "id": "9f250a74-4c3f-4c7f-8e0d-2c20d7c75247",
   "metadata": {},
   "outputs": [
    {
     "data": {
      "text/plain": [
       "array([12,  8,  9])"
      ]
     },
     "execution_count": 46,
     "metadata": {},
     "output_type": "execute_result"
    }
   ],
   "source": [
    "arr.sum(axis=0)"
   ]
  },
  {
   "cell_type": "code",
   "execution_count": 48,
   "id": "ab03bb08-a0a3-4d16-9eb6-af3d28310c7d",
   "metadata": {},
   "outputs": [
    {
     "data": {
      "text/plain": [
       "array([ 6, 15,  8])"
      ]
     },
     "execution_count": 48,
     "metadata": {},
     "output_type": "execute_result"
    }
   ],
   "source": [
    "arr.sum(axis=1)"
   ]
  },
  {
   "cell_type": "code",
   "execution_count": 50,
   "id": "6d30ba20-01cf-4689-a07d-145a4369f145",
   "metadata": {},
   "outputs": [
    {
     "data": {
      "text/plain": [
       "array([[1, 4, 7],\n",
       "       [2, 5, 1],\n",
       "       [3, 6, 0]])"
      ]
     },
     "execution_count": 50,
     "metadata": {},
     "output_type": "execute_result"
    }
   ],
   "source": [
    "arr.T"
   ]
  },
  {
   "cell_type": "code",
   "execution_count": 51,
   "id": "1ca8a82e-b742-4149-949b-638fc61eb2af",
   "metadata": {},
   "outputs": [
    {
     "data": {
      "text/plain": [
       "<numpy.flatiter at 0x22451d1b180>"
      ]
     },
     "execution_count": 51,
     "metadata": {},
     "output_type": "execute_result"
    }
   ],
   "source": [
    "arr.flat"
   ]
  },
  {
   "cell_type": "code",
   "execution_count": 53,
   "id": "d065a841-e765-476d-9f17-f07f7db32bd8",
   "metadata": {},
   "outputs": [
    {
     "name": "stdout",
     "output_type": "stream",
     "text": [
      "1\n",
      "2\n",
      "3\n",
      "4\n",
      "5\n",
      "6\n",
      "7\n",
      "1\n",
      "0\n"
     ]
    }
   ],
   "source": [
    "for item in arr.flat:\n",
    "    print(item)"
   ]
  },
  {
   "cell_type": "code",
   "execution_count": 54,
   "id": "ac8253c4-6725-440a-b900-09195dcb1566",
   "metadata": {},
   "outputs": [
    {
     "data": {
      "text/plain": [
       "2"
      ]
     },
     "execution_count": 54,
     "metadata": {},
     "output_type": "execute_result"
    }
   ],
   "source": [
    "arr.ndim"
   ]
  },
  {
   "cell_type": "code",
   "execution_count": 55,
   "id": "a2b39094-9ef6-4960-9cf0-8d040cc0888d",
   "metadata": {},
   "outputs": [
    {
     "data": {
      "text/plain": [
       "9"
      ]
     },
     "execution_count": 55,
     "metadata": {},
     "output_type": "execute_result"
    }
   ],
   "source": [
    "arr.size"
   ]
  },
  {
   "cell_type": "code",
   "execution_count": 56,
   "id": "8ae10643-4d57-4dc1-af0c-a4140977f8f0",
   "metadata": {},
   "outputs": [
    {
     "data": {
      "text/plain": [
       "36"
      ]
     },
     "execution_count": 56,
     "metadata": {},
     "output_type": "execute_result"
    }
   ],
   "source": [
    "arr.nbytes"
   ]
  },
  {
   "cell_type": "code",
   "execution_count": 57,
   "id": "aa0afc54-6f32-41f1-8599-dc966da73c64",
   "metadata": {},
   "outputs": [],
   "source": [
    "one = np.array([1,3,4,634,2])"
   ]
  },
  {
   "cell_type": "code",
   "execution_count": 58,
   "id": "e9a8e4c4-c398-42c3-9a24-94e969e92fef",
   "metadata": {},
   "outputs": [
    {
     "data": {
      "text/plain": [
       "3"
      ]
     },
     "execution_count": 58,
     "metadata": {},
     "output_type": "execute_result"
    }
   ],
   "source": [
    "one.argmax()"
   ]
  },
  {
   "cell_type": "code",
   "execution_count": 59,
   "id": "c26c0354-88bb-4f7f-9ac1-2b3dddd7d1c1",
   "metadata": {},
   "outputs": [
    {
     "data": {
      "text/plain": [
       "array([0, 4, 1, 2, 3], dtype=int64)"
      ]
     },
     "execution_count": 59,
     "metadata": {},
     "output_type": "execute_result"
    }
   ],
   "source": [
    "one.argsort()"
   ]
  },
  {
   "cell_type": "code",
   "execution_count": 60,
   "id": "fb9d71eb-fa4b-4409-8050-d45f6c4fd0f4",
   "metadata": {},
   "outputs": [
    {
     "data": {
      "text/plain": [
       "array([[1, 2, 3],\n",
       "       [4, 5, 6],\n",
       "       [7, 1, 0]])"
      ]
     },
     "execution_count": 60,
     "metadata": {},
     "output_type": "execute_result"
    }
   ],
   "source": [
    "arr"
   ]
  },
  {
   "cell_type": "code",
   "execution_count": 61,
   "id": "60112571-4bf8-437b-8f44-a2926de5e91e",
   "metadata": {},
   "outputs": [
    {
     "data": {
      "text/plain": [
       "8"
      ]
     },
     "execution_count": 61,
     "metadata": {},
     "output_type": "execute_result"
    }
   ],
   "source": [
    "arr.argmin()"
   ]
  },
  {
   "cell_type": "code",
   "execution_count": 62,
   "id": "6a0e8476-e5de-4abb-8e1b-d7e1575f3971",
   "metadata": {},
   "outputs": [
    {
     "data": {
      "text/plain": [
       "6"
      ]
     },
     "execution_count": 62,
     "metadata": {},
     "output_type": "execute_result"
    }
   ],
   "source": [
    "arr.argmax()"
   ]
  },
  {
   "cell_type": "code",
   "execution_count": 63,
   "id": "2cac6818-8404-4b2d-b5a3-e57198046ecb",
   "metadata": {},
   "outputs": [
    {
     "data": {
      "text/plain": [
       "array([2, 1, 1], dtype=int64)"
      ]
     },
     "execution_count": 63,
     "metadata": {},
     "output_type": "execute_result"
    }
   ],
   "source": [
    "arr.argmax(axis=0)"
   ]
  },
  {
   "cell_type": "code",
   "execution_count": 64,
   "id": "ca2ed370-d0e1-419d-82ac-8c05eed8bd7f",
   "metadata": {},
   "outputs": [
    {
     "data": {
      "text/plain": [
       "array([2, 2, 0], dtype=int64)"
      ]
     },
     "execution_count": 64,
     "metadata": {},
     "output_type": "execute_result"
    }
   ],
   "source": [
    "arr.argmax(axis=1)"
   ]
  },
  {
   "cell_type": "code",
   "execution_count": 65,
   "id": "a957f2ca-99e0-4c67-98fc-8947265e2de6",
   "metadata": {},
   "outputs": [
    {
     "data": {
      "text/plain": [
       "array([[0, 1, 2],\n",
       "       [0, 1, 2],\n",
       "       [2, 1, 0]], dtype=int64)"
      ]
     },
     "execution_count": 65,
     "metadata": {},
     "output_type": "execute_result"
    }
   ],
   "source": [
    "arr.argsort()"
   ]
  },
  {
   "cell_type": "code",
   "execution_count": 67,
   "id": "d32f6319-d9e6-4df8-8307-648f9f1df897",
   "metadata": {},
   "outputs": [
    {
     "data": {
      "text/plain": [
       "array([1, 2, 3, 4, 5, 6, 7, 1, 0])"
      ]
     },
     "execution_count": 67,
     "metadata": {},
     "output_type": "execute_result"
    }
   ],
   "source": [
    "arr.ravel()"
   ]
  },
  {
   "cell_type": "code",
   "execution_count": 69,
   "id": "c5ef60ee-c322-489e-bc11-55c8f0084f63",
   "metadata": {},
   "outputs": [
    {
     "data": {
      "text/plain": [
       "array([[1],\n",
       "       [2],\n",
       "       [3],\n",
       "       [4],\n",
       "       [5],\n",
       "       [6],\n",
       "       [7],\n",
       "       [1],\n",
       "       [0]])"
      ]
     },
     "execution_count": 69,
     "metadata": {},
     "output_type": "execute_result"
    }
   ],
   "source": [
    "arr.reshape((9,1))"
   ]
  },
  {
   "cell_type": "code",
   "execution_count": 71,
   "id": "ac0ae9e7-902d-46bd-835e-d426989c89b1",
   "metadata": {},
   "outputs": [],
   "source": [
    "arr2 = np.array([[1,2,1],[4,0,6],[8,1,0]])"
   ]
  },
  {
   "cell_type": "code",
   "execution_count": 72,
   "id": "c2d05d91-7d64-459d-bdb9-31147bd05e08",
   "metadata": {},
   "outputs": [
    {
     "data": {
      "text/plain": [
       "array([[ 2,  4,  4],\n",
       "       [ 8,  5, 12],\n",
       "       [15,  2,  0]])"
      ]
     },
     "execution_count": 72,
     "metadata": {},
     "output_type": "execute_result"
    }
   ],
   "source": [
    "arr + arr2"
   ]
  },
  {
   "cell_type": "code",
   "execution_count": 73,
   "id": "50d5db01-2c41-4f7f-81be-4044feac003f",
   "metadata": {},
   "outputs": [
    {
     "data": {
      "text/plain": [
       "array([[1, 2, 3],\n",
       "       [4, 5, 6],\n",
       "       [7, 1, 0]])"
      ]
     },
     "execution_count": 73,
     "metadata": {},
     "output_type": "execute_result"
    }
   ],
   "source": [
    "arr"
   ]
  },
  {
   "cell_type": "code",
   "execution_count": 74,
   "id": "52892885-5261-428a-a90e-026c222604c9",
   "metadata": {},
   "outputs": [
    {
     "data": {
      "text/plain": [
       "array([[1, 2, 1],\n",
       "       [4, 0, 6],\n",
       "       [8, 1, 0]])"
      ]
     },
     "execution_count": 74,
     "metadata": {},
     "output_type": "execute_result"
    }
   ],
   "source": [
    "arr2"
   ]
  },
  {
   "cell_type": "code",
   "execution_count": 75,
   "id": "0e03afe0-8e3e-4681-9682-9b1a3d6a3ac1",
   "metadata": {},
   "outputs": [
    {
     "data": {
      "text/plain": [
       "array([[ 1,  4,  3],\n",
       "       [16,  0, 36],\n",
       "       [56,  1,  0]])"
      ]
     },
     "execution_count": 75,
     "metadata": {},
     "output_type": "execute_result"
    }
   ],
   "source": [
    "arr*arr2"
   ]
  },
  {
   "cell_type": "code",
   "execution_count": 76,
   "id": "b8cbd1d2-529f-4d04-b265-a13d86295842",
   "metadata": {},
   "outputs": [
    {
     "data": {
      "text/plain": [
       "array([[1.        , 1.41421356, 1.73205081],\n",
       "       [2.        , 2.23606798, 2.44948974],\n",
       "       [2.64575131, 1.        , 0.        ]])"
      ]
     },
     "execution_count": 76,
     "metadata": {},
     "output_type": "execute_result"
    }
   ],
   "source": [
    "np.sqrt(arr)"
   ]
  },
  {
   "cell_type": "code",
   "execution_count": 77,
   "id": "b9788577-bf43-496c-a28b-d08a1335234b",
   "metadata": {},
   "outputs": [
    {
     "data": {
      "text/plain": [
       "29"
      ]
     },
     "execution_count": 77,
     "metadata": {},
     "output_type": "execute_result"
    }
   ],
   "source": [
    "arr.sum()"
   ]
  },
  {
   "cell_type": "code",
   "execution_count": 78,
   "id": "cde47ee3-bfe3-4369-81f6-cc8cf6826d3c",
   "metadata": {},
   "outputs": [
    {
     "data": {
      "text/plain": [
       "7"
      ]
     },
     "execution_count": 78,
     "metadata": {},
     "output_type": "execute_result"
    }
   ],
   "source": [
    "arr.max()"
   ]
  },
  {
   "cell_type": "code",
   "execution_count": 79,
   "id": "297a9739-1f27-4c11-b39c-9bfa3abea351",
   "metadata": {},
   "outputs": [
    {
     "data": {
      "text/plain": [
       "0"
      ]
     },
     "execution_count": 79,
     "metadata": {},
     "output_type": "execute_result"
    }
   ],
   "source": [
    "arr.min()"
   ]
  },
  {
   "cell_type": "code",
   "execution_count": 80,
   "id": "13fe2bc3-4d83-4ee2-b14d-e42d347f579c",
   "metadata": {},
   "outputs": [
    {
     "data": {
      "text/plain": [
       "array([[1, 2, 3],\n",
       "       [4, 5, 6],\n",
       "       [7, 1, 0]])"
      ]
     },
     "execution_count": 80,
     "metadata": {},
     "output_type": "execute_result"
    }
   ],
   "source": [
    "arr"
   ]
  },
  {
   "cell_type": "code",
   "execution_count": 81,
   "id": "71110363-cc70-4842-a2c8-df9ebdd7cdb2",
   "metadata": {},
   "outputs": [
    {
     "data": {
      "text/plain": [
       "(array([1, 2], dtype=int64), array([2, 0], dtype=int64))"
      ]
     },
     "execution_count": 81,
     "metadata": {},
     "output_type": "execute_result"
    }
   ],
   "source": [
    "np.where(arr>5)"
   ]
  },
  {
   "cell_type": "code",
   "execution_count": 82,
   "id": "67ee151d-f4a3-45e2-b516-df6d77d2919d",
   "metadata": {},
   "outputs": [
    {
     "data": {
      "text/plain": [
       "(array([1, 2], dtype=int64), array([2, 0], dtype=int64))"
      ]
     },
     "execution_count": 82,
     "metadata": {},
     "output_type": "execute_result"
    }
   ],
   "source": [
    "tuple(np.where(arr>5))"
   ]
  },
  {
   "cell_type": "code",
   "execution_count": 83,
   "id": "2ce10ee6-0593-4065-94c9-a422872cd0a7",
   "metadata": {},
   "outputs": [
    {
     "data": {
      "text/plain": [
       "8"
      ]
     },
     "execution_count": 83,
     "metadata": {},
     "output_type": "execute_result"
    }
   ],
   "source": [
    "np.count_nonzero(arr)"
   ]
  },
  {
   "cell_type": "code",
   "execution_count": 84,
   "id": "0caf90b2-df48-4146-8b09-002bf50fdec0",
   "metadata": {},
   "outputs": [
    {
     "data": {
      "text/plain": [
       "(array([0, 0, 0, 1, 1, 1, 2, 2], dtype=int64),\n",
       " array([0, 1, 2, 0, 1, 2, 0, 1], dtype=int64))"
      ]
     },
     "execution_count": 84,
     "metadata": {},
     "output_type": "execute_result"
    }
   ],
   "source": [
    "np.nonzero(arr)"
   ]
  },
  {
   "cell_type": "code",
   "execution_count": 85,
   "id": "18bf339f-893c-462b-a0a1-e82d4d1f5576",
   "metadata": {},
   "outputs": [],
   "source": [
    "import sys"
   ]
  },
  {
   "cell_type": "code",
   "execution_count": 87,
   "id": "edb6d99d-ff5f-4f6a-9b1d-0eacf9ed5c8b",
   "metadata": {},
   "outputs": [],
   "source": [
    "py_ar = [0,4,55,2] "
   ]
  },
  {
   "cell_type": "code",
   "execution_count": 88,
   "id": "16bd1611-4071-4793-9ceb-7ecbdd1c78a0",
   "metadata": {},
   "outputs": [],
   "source": [
    "np_ar = np.array(py_ar)"
   ]
  },
  {
   "cell_type": "code",
   "execution_count": 90,
   "id": "08ce4474-bfbd-4f26-9ccc-b36c41204f47",
   "metadata": {},
   "outputs": [
    {
     "data": {
      "text/plain": [
       "112"
      ]
     },
     "execution_count": 90,
     "metadata": {},
     "output_type": "execute_result"
    }
   ],
   "source": [
    "sys.getsizeof(1) * len(py_ar)"
   ]
  },
  {
   "cell_type": "code",
   "execution_count": 92,
   "id": "f1deeb57-170f-4606-97e5-32a5aa5ec4da",
   "metadata": {},
   "outputs": [
    {
     "data": {
      "text/plain": [
       "16"
      ]
     },
     "execution_count": 92,
     "metadata": {},
     "output_type": "execute_result"
    }
   ],
   "source": [
    "np_ar.itemsize * np_ar.size"
   ]
  },
  {
   "cell_type": "code",
   "execution_count": 93,
   "id": "950230af-5c9a-468f-bbea-8b93b9ac7850",
   "metadata": {},
   "outputs": [
    {
     "data": {
      "text/plain": [
       "[0, 4, 55, 2]"
      ]
     },
     "execution_count": 93,
     "metadata": {},
     "output_type": "execute_result"
    }
   ],
   "source": [
    "np_ar.tolist()"
   ]
  },
  {
   "cell_type": "code",
   "execution_count": null,
   "id": "3a0561a0-c567-4985-a967-b30ff7c6bc6d",
   "metadata": {},
   "outputs": [],
   "source": []
  }
 ],
 "metadata": {
  "kernelspec": {
   "display_name": "Python 3 (ipykernel)",
   "language": "python",
   "name": "python3"
  },
  "language_info": {
   "codemirror_mode": {
    "name": "ipython",
    "version": 3
   },
   "file_extension": ".py",
   "mimetype": "text/x-python",
   "name": "python",
   "nbconvert_exporter": "python",
   "pygments_lexer": "ipython3",
   "version": "3.12.0"
  }
 },
 "nbformat": 4,
 "nbformat_minor": 5
}
